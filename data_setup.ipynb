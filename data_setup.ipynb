{
 "cells": [
  {
   "cell_type": "markdown",
   "metadata": {},
   "source": [
    "# Dataset Cleaning and Prep"
   ]
  },
  {
   "cell_type": "code",
   "execution_count": 1,
   "metadata": {},
   "outputs": [],
   "source": [
    "# dependencies\n",
    "'''\n",
    "%pip install requests\n",
    "%pip install bitarray\n",
    "%pip install peewee\n",
    "%pip install tqdm\n",
    "'''\n",
    "\n",
    "import json\n",
    "import os\n",
    "import requests\n",
    "import base64\n",
    "from peewee import *\n",
    "from bitarray import bitarray\n",
    "from tqdm import tqdm"
   ]
  },
  {
   "cell_type": "code",
   "execution_count": 2,
   "metadata": {},
   "outputs": [],
   "source": [
    "# uses lichess's evals db\n",
    "# https://database.lichess.org/lichess_db_eval.jsonl.zst\n",
    "\n",
    "# if db is already downloaded, use lichess_db_eval.jsonl\n",
    "# if not, download it\n",
    "if not os.path.exists('lichess_db_eval.jsonl'):\n",
    "    url = 'https://database.lichess.org/lichess_db_eval.jsonl.zst'\n",
    "    r = requests.get(url)\n",
    "    with open('lichess_db_eval.jsonl.zst', 'wb') as f:\n",
    "        f.write(r.content)\n",
    "    os.system('zstd -d lichess_db_eval.jsonl.zst')"
   ]
  },
  {
   "cell_type": "code",
   "execution_count": 3,
   "metadata": {},
   "outputs": [],
   "source": [
    "# we can encode the fens as bitmaps\n",
    "# p, n, b, r, q, k is 6 types of piece\n",
    "# w, b is 2 colors\n",
    "# 6 * 2 * 8 * 8 = 768\n",
    "# one bit for whether it's white's turn\n",
    "# castling is four bits for KQkq\n",
    "# reserve seven bits for en passant, with 0 being no en passant and 1-64 for the square\n",
    "# 768 + 1 + 4 + 7 = 780\n",
    "\n",
    "def fen_to_bitmap(fen):\n",
    "    # start by splitting the fen into its parts\n",
    "    parts = fen.split(' ')\n",
    "    board = parts[0]\n",
    "    to_move = parts[1]\n",
    "    castling = parts[2]\n",
    "    ep = parts[3]\n",
    "\n",
    "    # create an empty bitarray\n",
    "    bitmap = bitarray(780)\n",
    "    \n",
    "    # fill in the board\n",
    "    row = 0\n",
    "    col = 0\n",
    "\n",
    "    # char order\n",
    "    pieces = 'PNBRQKpnbrqk'\n",
    "\n",
    "    for char in board:\n",
    "        if char == '/':\n",
    "            row += 1\n",
    "            col = 0\n",
    "        elif char.isdigit():\n",
    "            col += int(char)\n",
    "        else:\n",
    "            piece = pieces.index(char)\n",
    "\n",
    "            bitmap[piece * 64 + row * 8 + col] = 1\n",
    "            col += 1\n",
    "\n",
    "    # fill in to move\n",
    "    bitmap[768] = (to_move == 'w')\n",
    "    \n",
    "    # fill in castling\n",
    "    bitmap[769] = ('K' in castling)\n",
    "    bitmap[770] = ('Q' in castling)\n",
    "    bitmap[771] = ('k' in castling)\n",
    "    bitmap[772] = ('q' in castling)\n",
    "\n",
    "    # fill in en passant\n",
    "    if ep != '-':\n",
    "        # convert ep to a square\n",
    "        col = ord(ep[0]) - ord('a')\n",
    "        row = int(ep[1]) - 1\n",
    "        # convert to a 7 bit number\n",
    "        ep = bitarray(7)\n",
    "\n",
    "        # one bit for whether ep is possible\n",
    "        ep[0] = 1\n",
    "        # six bits for the square\n",
    "        square = row * 8 + col\n",
    "        for i in range(6):\n",
    "            ep[i + 1] = square % 2\n",
    "            square //= 2\n",
    "        bitmap[773:780] = ep\n",
    "\n",
    "\n",
    "    return bitmap"
   ]
  },
  {
   "cell_type": "code",
   "execution_count": null,
   "metadata": {},
   "outputs": [
    {
     "name": "stderr",
     "output_type": "stream",
     "text": [
      "  0%|          | 1000/190987505 [00:05<294:10:48, 180.34it/s]\n"
     ]
    }
   ],
   "source": [
    "# cleaning the db\n",
    "# we only want the eval with the most knodes\n",
    "# and we want to convert the fens to bitmaps\n",
    "# for mate in x, we want to convert x to a cp of 1000000 / x\n",
    "\n",
    "sqlite_db = SqliteDatabase('lichess.db')\n",
    "\n",
    "# create a model for the db\n",
    "class Evaluations(Model):\n",
    "    id = IntegerField(primary_key = True)\n",
    "    fen = TextField()\n",
    "    binary = BlobField()\n",
    "    eval = FloatField()\n",
    "\n",
    "    class Meta:\n",
    "        database = sqlite_db\n",
    "    \n",
    "    def binary_base64(self):\n",
    "        return base64.b64encode(self.binary)\n",
    "\n",
    "# create the table\n",
    "sqlite_db.connect()\n",
    "sqlite_db.create_tables([Evaluations])\n",
    "\n",
    "# per the lichess docs, there are 190,987,505 positions\n",
    "num_positions = 190987505\n",
    "\n",
    "position_id = 1\n",
    "\n",
    "with open('lichess_db_eval.jsonl', 'r') as f:\n",
    "    for _ in tqdm(range(num_positions)):\n",
    "        # read a line\n",
    "        line = f.readline()\n",
    "        # if the line is empty, we're done\n",
    "        if not line:\n",
    "            break\n",
    "\n",
    "        # parse the line\n",
    "        position = json.loads(line)\n",
    "\n",
    "        # find the eval with the most knodes\n",
    "        best_eval = max(position['evals'], key = lambda x: x['knodes'])\n",
    "\n",
    "        # convert the fen to a bitmap\n",
    "        bitmap = fen_to_bitmap(position['fen'])\n",
    "\n",
    "        # convert the eval to a cp\n",
    "        # if the eval is mate in x, convert to 1000000 / x\n",
    "        # we can tell if it's mate by if there is a 'mate' key\n",
    "        if 'mate' in best_eval['pvs'][0]:\n",
    "            eval = 1000000 / best_eval['pvs'][0]['mate']\n",
    "        else:\n",
    "            eval = best_eval['pvs'][0]['cp']\n",
    "        \n",
    "        # insert into the db\n",
    "        eval = Evaluations.create(fen = position['fen'], binary = bitmap.tobytes(), eval = eval, id = position_id)\n",
    "        position_id += 1\n",
    "        eval.save()"
   ]
  },
  {
   "cell_type": "code",
   "execution_count": 5,
   "metadata": {},
   "outputs": [
    {
     "name": "stdout",
     "output_type": "stream",
     "text": [
      "7r/1p3k2/p1bPR3/5p2/2B2P1p/8/PP4P1/3K4 b - - 69.0\n",
      "b'AAAQAAQAwgAAAAAAAAAAAAAAAAAgAAAAAAAIAAAAAAAAAAAAAAAAAAAAAAAAAAAQAECABAEAAAAAAAAAAAAAAAAAIAAAAAAAAQAAAAAAAAAAAAAAAAAAAAAEAAAAAAAAAAA='\n",
      "8/4r3/2R2pk1/6pp/3P4/6P1/5K1P/8 b - - 0.0\n",
      "b'AAAAABACAQAAAAAAAAAAAAAAAAAAAAAAAAAgAAAAAAAAAAAAAAAAAAAAAAAAAAQAAAAEAwAAAAAAAAAAAAAAAAAAAAAAAAAAAAgAAAAAAAAAAAAAAAAAAAAAAgAAAAAAAAA='\n",
      "6k1/6p1/8/4K3/4NN2/8/8/8 w - - 55555.555555555555\n",
      "b'AAAAAAAAAAAAAAAADAAAAAAAAAAAAAAAAAAAAAAAAAAAAAAAAAAAAAAAAAgAAAAAAAIAAAAAAAAAAAAAAAAAAAAAAAAAAAAAAAAAAAAAAAAAAAAAAAAAAAIAAAAAAAAAgAA='\n",
      "r1b2rk1/1p2bppp/p1nppn2/q7/2P1P3/N1N5/PP2BPPP/R1BQ1RK1 w - - 26.0\n",
      "b'AAAAACgAxwAAAAAAAKAAAAAAAAAAAAggAAAAAAAAAIQAAAAAAAAAEAAAAAAAAAACAEeYAAAAAAAAACQAAAAAACAIAAAAAAAAhAAAAAAAAAAAAACAAAAAAAIAAAAAAAAAgAA='\n",
      "6k1/4Rppp/8/8/8/8/5PPP/6K1 w - - 1000000.0\n",
      "b'AAAAAAAABwAAAAAAAAAAAAAAAAAAAAAAAAgAAAAAAAAAAAAAAAAAAAAAAAAAAAACAAcAAAAAAAAAAAAAAAAAAAAAAAAAAAAAAAAAAAAAAAAAAAAAAAAAAAIAAAAAAAAAgAA='\n",
      "6k1/6p1/6N1/4K3/4N3/8/8/8 b - - 37037.03703703704\n",
      "b'AAAAAAAAAAAAAAIACAAAAAAAAAAAAAAAAAAAAAAAAAAAAAAAAAAAAAAAAAgAAAAAAAIAAAAAAAAAAAAAAAAAAAAAAAAAAAAAAAAAAAAAAAAAAAAAAAAAAAIAAAAAAAAAAAA='\n",
      "rnbqkbnr/pppppppp/8/8/8/8/PPPPPPPP/RNBQKBNR w KQkq - 24.0\n",
      "b'AAAAAAAA/wAAAAAAAAAAQgAAAAAAAAAkAAAAAAAAAIEAAAAAAAAAEAAAAAAAAAAIAP8AAAAAAABCAAAAAAAAACQAAAAAAAAAgQAAAAAAAAAQAAAAAAAAAAgAAAAAAAAA+AA='\n",
      "8/8/2N2k2/8/1p2p3/p7/K7/8 b - - 0.0\n",
      "b'AAAAAAAAAAAAACAAAAAAAAAAAAAAAAAAAAAAAAAAAAAAAAAAAAAAAAAAAAAAAIAAAAAAAEiAAAAAAAAAAAAAAAAAAAAAAAAAAAAAAAAAAAAAAAAAAAAAAAAABAAAAAAAAAA='\n",
      "8/1r6/2R2pk1/6pp/3P4/6P1/5K1P/8 w - - 0.0\n",
      "b'AAAAABACAQAAAAAAAAAAAAAAAAAAAAAAAAAgAAAAAAAAAAAAAAAAAAAAAAAAAAQAAAAEAwAAAAAAAAAAAAAAAAAAAAAAAAAAAEAAAAAAAAAAAAAAAAAAAAAAAgAAAAAAgAA='\n",
      "1R4k1/3q1pp1/6n1/b2p2Pp/2pP2b1/p1P5/P1BQrPPB/5NK1 b - - -57.0\n",
      "b'AAAAAhAghgAAAAAAAAAABAAAAAAAACEAQAAAAAAAAAAAAAAAAAAQAAAAAAAAAAACAAYAESCAAAAAAAIAAAAAAAAAAIACAAAAAAAAAAAACAAAEAAAAAAAAAIAAAAAAAAAAAA='\n"
     ]
    },
    {
     "data": {
      "text/plain": [
       "True"
      ]
     },
     "execution_count": 5,
     "metadata": {},
     "output_type": "execute_result"
    }
   ],
   "source": [
    "# testing the db\n",
    "# get the first 10 entries\n",
    "for eval in Evaluations.select().limit(10):\n",
    "    print(eval.fen, eval.eval)\n",
    "    print(eval.binary_base64())\n",
    "\n",
    "sqlite_db.close()"
   ]
  }
 ],
 "metadata": {
  "kernelspec": {
   "display_name": "Python 3",
   "language": "python",
   "name": "python3"
  },
  "language_info": {
   "codemirror_mode": {
    "name": "ipython",
    "version": 3
   },
   "file_extension": ".py",
   "mimetype": "text/x-python",
   "name": "python",
   "nbconvert_exporter": "python",
   "pygments_lexer": "ipython3",
   "version": "3.11.9"
  }
 },
 "nbformat": 4,
 "nbformat_minor": 2
}
